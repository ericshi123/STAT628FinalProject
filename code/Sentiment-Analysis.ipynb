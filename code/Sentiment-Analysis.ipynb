{
 "cells": [
  {
   "cell_type": "code",
   "execution_count": 31,
   "id": "0def1bad",
   "metadata": {},
   "outputs": [],
   "source": [
    "import nltk\n",
    "from nltk.stem import WordNetLemmatizer\n",
    "from nltk.tokenize import word_tokenize\n",
    "from nltk.corpus import wordnet\n",
    "from nltk import pos_tag\n",
    "from textblob import TextBlob\n",
    "import pandas as pd\n",
    "import matplotlib.pyplot as plt\n",
    "import re"
   ]
  },
  {
   "cell_type": "code",
   "execution_count": 32,
   "id": "529dd6c5",
   "metadata": {},
   "outputs": [
    {
     "data": {
      "text/html": [
       "<div>\n",
       "<style scoped>\n",
       "    .dataframe tbody tr th:only-of-type {\n",
       "        vertical-align: middle;\n",
       "    }\n",
       "\n",
       "    .dataframe tbody tr th {\n",
       "        vertical-align: top;\n",
       "    }\n",
       "\n",
       "    .dataframe thead th {\n",
       "        text-align: right;\n",
       "    }\n",
       "</style>\n",
       "<table border=\"1\" class=\"dataframe\">\n",
       "  <thead>\n",
       "    <tr style=\"text-align: right;\">\n",
       "      <th></th>\n",
       "      <th>name</th>\n",
       "      <th>user_id</th>\n",
       "      <th>text</th>\n",
       "      <th>stars</th>\n",
       "    </tr>\n",
       "  </thead>\n",
       "  <tbody>\n",
       "    <tr>\n",
       "      <th>0</th>\n",
       "      <td>Popeyes</td>\n",
       "      <td>cZA_G7kIkyIrR15EKXoVFw</td>\n",
       "      <td>Awful.  Waited in line for 15-20 for a chicken...</td>\n",
       "      <td>1.0</td>\n",
       "    </tr>\n",
       "    <tr>\n",
       "      <th>1</th>\n",
       "      <td>Popeyes</td>\n",
       "      <td>zKMCLxQnAOXpHJIKMZCI_Q</td>\n",
       "      <td>This is my first time at the Hartsfield Airpor...</td>\n",
       "      <td>1.0</td>\n",
       "    </tr>\n",
       "    <tr>\n",
       "      <th>2</th>\n",
       "      <td>Popeyes</td>\n",
       "      <td>CpRBM-El-mqvbv93lYX5QA</td>\n",
       "      <td>They weren't ready for the return of the chick...</td>\n",
       "      <td>4.0</td>\n",
       "    </tr>\n",
       "    <tr>\n",
       "      <th>3</th>\n",
       "      <td>Popeyes</td>\n",
       "      <td>ui1vL68Ty9_aeKGtzJNSHg</td>\n",
       "      <td>I have being several times there but they neve...</td>\n",
       "      <td>1.0</td>\n",
       "    </tr>\n",
       "    <tr>\n",
       "      <th>4</th>\n",
       "      <td>Popeyes</td>\n",
       "      <td>Lk_clm7vulcrkvcBAyO6fg</td>\n",
       "      <td>I have been trying to get the spicy chicken sa...</td>\n",
       "      <td>1.0</td>\n",
       "    </tr>\n",
       "  </tbody>\n",
       "</table>\n",
       "</div>"
      ],
      "text/plain": [
       "      name                 user_id  \\\n",
       "0  Popeyes  cZA_G7kIkyIrR15EKXoVFw   \n",
       "1  Popeyes  zKMCLxQnAOXpHJIKMZCI_Q   \n",
       "2  Popeyes  CpRBM-El-mqvbv93lYX5QA   \n",
       "3  Popeyes  ui1vL68Ty9_aeKGtzJNSHg   \n",
       "4  Popeyes  Lk_clm7vulcrkvcBAyO6fg   \n",
       "\n",
       "                                                text  stars  \n",
       "0  Awful.  Waited in line for 15-20 for a chicken...    1.0  \n",
       "1  This is my first time at the Hartsfield Airpor...    1.0  \n",
       "2  They weren't ready for the return of the chick...    4.0  \n",
       "3  I have being several times there but they neve...    1.0  \n",
       "4  I have been trying to get the spicy chicken sa...    1.0  "
      ]
     },
     "execution_count": 32,
     "metadata": {},
     "output_type": "execute_result"
    }
   ],
   "source": [
    "stopwords = nltk.corpus.stopwords.words(\"english\")\n",
    "data = pd.read_csv('all_chains_cs_reviews.csv')\n",
    "data['stars'] = data['stars_y']\n",
    "data = data.drop(['Unnamed: 0', 'business_id', 'city', 'address', 'state', 'postal_code', 'latitude', 'longitude', 'attributes', 'categories', 'hours', 'review_id', 'useful', 'funny', 'cool', 'date', 'is_open', 'stars_x', 'stars_y', 'review_count'], axis=1)\n",
    "data.head()"
   ]
  },
  {
   "cell_type": "code",
   "execution_count": 33,
   "id": "631851fa",
   "metadata": {},
   "outputs": [],
   "source": [
    "# Function to clean the text\n",
    "def clean(text):\n",
    "# Removes all special characters and numericals leaving the alphabets\n",
    "    text = re.sub('[^A-Za-z]+', ' ', text)\n",
    "    return text\n",
    "\n",
    "# Cleaning the text in the review column\n",
    "data['clean_reviews'] = data['text'].apply(clean)"
   ]
  },
  {
   "cell_type": "code",
   "execution_count": 34,
   "id": "498bd246",
   "metadata": {},
   "outputs": [],
   "source": [
    "# Tagging each word with the part of speech\n",
    "part_of_speech_dict = {'J':wordnet.ADJ, 'V':wordnet.VERB, 'N':wordnet.NOUN, 'R':wordnet.ADV}\n",
    "def pos_tagger(input):\n",
    "    tags = pos_tag(word_tokenize(input))\n",
    "    tag_list = []\n",
    "    for word, tag in tags:\n",
    "        if word.lower() not in stopwords:\n",
    "            tag_list.append(tuple([word, part_of_speech_dict.get(tag[0])]))\n",
    "    return tag_list\n",
    "\n",
    "data['part_of_speech'] = data['clean_reviews'].apply(pos_tagger)"
   ]
  },
  {
   "cell_type": "code",
   "execution_count": 35,
   "id": "8a7f3f57",
   "metadata": {},
   "outputs": [],
   "source": [
    "#Lemmatize the words so that they are in similar formats for analysis\n",
    "lemmatizer = WordNetLemmatizer()\n",
    "def lemmatize(part_of_speech_data):\n",
    "    resulting_lemma = \" \"\n",
    "    for word, pos in part_of_speech_data:\n",
    "        if not pos:\n",
    "            lemma = word\n",
    "            resulting_lemma = resulting_lemma + \" \" + lemma\n",
    "        else:\n",
    "            lemma = lemmatizer.lemmatize(word, pos=pos)\n",
    "            resulting_lemma = resulting_lemma + \" \" + lemma\n",
    "    return resulting_lemma\n",
    "\n",
    "data['lemma'] = data['part_of_speech'].apply(lemmatize)"
   ]
  },
  {
   "cell_type": "code",
   "execution_count": 36,
   "id": "8ce269d7",
   "metadata": {},
   "outputs": [],
   "source": [
    "# calculate the subjectivity of the review\n",
    "def getSubjectivity(review):\n",
    "    return TextBlob(review).sentiment.subjectivity\n",
    "\n",
    "# calculate the polarity of the review (results between -1 and 1)\n",
    "def getPolarity(review):\n",
    "    return TextBlob(review).sentiment.polarity\n",
    "\n",
    "# analyze the polarity of the review (closer to -1 is more negative and closer to 1 is more positive)\n",
    "def polarity_analysis(score):\n",
    "    if score < -0.025:\n",
    "        return 'Negative'\n",
    "    elif score > 0.025:\n",
    "        return 'Positive'\n",
    "    else:\n",
    "        return 'Neutral'"
   ]
  },
  {
   "cell_type": "code",
   "execution_count": 38,
   "id": "9a525435",
   "metadata": {},
   "outputs": [
    {
     "name": "stdout",
     "output_type": "stream",
     "text": [
      "      name  stars                                               text  \\\n",
      "0  Popeyes    1.0  Awful.  Waited in line for 15-20 for a chicken...   \n",
      "1  Popeyes    1.0  This is my first time at the Hartsfield Airpor...   \n",
      "2  Popeyes    4.0  They weren't ready for the return of the chick...   \n",
      "3  Popeyes    1.0  I have being several times there but they neve...   \n",
      "4  Popeyes    1.0  I have been trying to get the spicy chicken sa...   \n",
      "\n",
      "                                               lemma  polarity  analysis  \n",
      "0    Awful Waited line chicken sandwich biscuit g... -0.800000  Negative  \n",
      "1    first time Hartsfield Airport idea service H... -0.061905  Negative  \n",
      "2    ready return chicken stop take order restaur...  0.079940  Positive  \n",
      "3    several time never chicken sandwich problem ...  0.079592  Positive  \n",
      "4    try get spicy chicken sandwich last three mo... -0.166667  Negative  \n",
      "      name  stars                                               text  \\\n",
      "0  Popeyes    1.0  Awful.  Waited in line for 15-20 for a chicken...   \n",
      "1  Popeyes    1.0  This is my first time at the Hartsfield Airpor...   \n",
      "2  Popeyes    4.0  They weren't ready for the return of the chick...   \n",
      "3  Popeyes    1.0  I have being several times there but they neve...   \n",
      "4  Popeyes    1.0  I have been trying to get the spicy chicken sa...   \n",
      "\n",
      "   polarity  analysis  \n",
      "0 -0.800000  Negative  \n",
      "1 -0.061905  Negative  \n",
      "2  0.079940  Positive  \n",
      "3  0.079592  Positive  \n",
      "4 -0.166667  Negative  \n",
      "Positive    1223\n",
      "Negative    1011\n",
      "Neutral      190\n",
      "Name: analysis, dtype: int64\n"
     ]
    }
   ],
   "source": [
    "data['polarity'] = data['lemma'].apply(getPolarity) \n",
    "data['analysis'] = data['polarity'].apply(polarity_analysis)\n",
    "\n",
    "data = pd.DataFrame(data[['name', 'stars', 'text', 'polarity', 'analysis']])\n",
    "\n",
    "data.to_csv('/Users/lukevandy/Documents/python-workspace/Stat628_Module3/pos_and_neg_reviews.csv')\n",
    "tb_counts = data.analysis.value_counts()\n",
    "print(data.head())\n",
    "print(tb_counts)"
   ]
  },
  {
   "cell_type": "code",
   "execution_count": null,
   "id": "358bc1e8",
   "metadata": {},
   "outputs": [],
   "source": []
  }
 ],
 "metadata": {
  "kernelspec": {
   "display_name": "Python 3 (ipykernel)",
   "language": "python",
   "name": "python3"
  },
  "language_info": {
   "codemirror_mode": {
    "name": "ipython",
    "version": 3
   },
   "file_extension": ".py",
   "mimetype": "text/x-python",
   "name": "python",
   "nbconvert_exporter": "python",
   "pygments_lexer": "ipython3",
   "version": "3.7.4"
  }
 },
 "nbformat": 4,
 "nbformat_minor": 5
}
