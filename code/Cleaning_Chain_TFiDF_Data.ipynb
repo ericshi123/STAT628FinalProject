{
 "cells": [
  {
   "cell_type": "code",
   "execution_count": 4,
   "id": "0749c5d5",
   "metadata": {},
   "outputs": [],
   "source": [
    "import pandas as pd"
   ]
  },
  {
   "cell_type": "code",
   "execution_count": 27,
   "id": "c73be2c0",
   "metadata": {},
   "outputs": [],
   "source": [
    "CarlsJr = pd.read_csv('/Users/lukevandy/Documents/Fall_2021/Stat 628/Module_3/STAT628FinalProject-main/CarlsJr.csv')\n",
    "KFC = pd.read_csv('/Users/lukevandy/Documents/Fall_2021/Stat 628/Module_3/STAT628FinalProject-main/KFC.csv')\n",
    "McDonalds = pd.read_csv('/Users/lukevandy/Documents/Fall_2021/Stat 628/Module_3/STAT628FinalProject-main/McDonalds.csv')\n",
    "Popeyes = pd.read_csv('/Users/lukevandy/Documents/Fall_2021/Stat 628/Module_3/STAT628FinalProject-main/Popeyes.csv')\n",
    "Wendys = pd.read_csv('/Users/lukevandy/Documents/Fall_2021/Stat 628/Module_3/STAT628FinalProject-main/Wendys.csv')\n",
    "BurgerKing = pd.read_csv('/Users/lukevandy/Documents/Fall_2021/Stat 628/Module_3/STAT628FinalProject-main/data/BurgerKing.csv')\n",
    "Chick_fil_A = pd.read_csv('/Users/lukevandy/Documents/Fall_2021/Stat 628/Module_3/STAT628FinalProject-main/Chick-fil-A.csv')"
   ]
  },
  {
   "cell_type": "code",
   "execution_count": 28,
   "id": "c16d334d",
   "metadata": {},
   "outputs": [],
   "source": [
    "CarlsJr = CarlsJr.sort_values(by=['weight'], ascending=False)\n",
    "KFC = KFC.sort_values(by=['weight'], ascending=False)\n",
    "McDonalds = McDonalds.sort_values(by=['weight'], ascending=False)\n",
    "Popeyes = Popeyes.sort_values(by=['weight'], ascending=False)\n",
    "Wendys = Wendys.sort_values(by=['weight'], ascending=False)\n",
    "BurgerKing = BurgerKing.sort_values(by=['weight'], ascending=False)\n",
    "Chick_fil_A = Chick_fil_A.sort_values(by=['weight'], ascending=False)\n",
    "\n",
    "CarlsJr = CarlsJr.drop(['Unnamed: 0'], axis=1)\n",
    "KFC = KFC.drop(['Unnamed: 0'], axis=1)\n",
    "McDonalds = McDonalds.drop(['Unnamed: 0'], axis=1)\n",
    "Popeyes = Popeyes.drop(['Unnamed: 0'], axis=1)\n",
    "Wendys = Wendys.drop(['Unnamed: 0'], axis=1)\n",
    "BurgerKing = BurgerKing.drop(['Unnamed: 0'], axis=1)\n",
    "Chick_fil_A = Chick_fil_A.drop(['Unnamed: 0'], axis=1)\n",
    "\n",
    "chains = [CarlsJr, KFC, McDonalds, Popeyes, Wendys, BurgerKing, Chick_fil_A]"
   ]
  },
  {
   "cell_type": "code",
   "execution_count": 32,
   "id": "353695e4",
   "metadata": {},
   "outputs": [],
   "source": [
    "patternDel = \"[0-9]+\"\n",
    "filter = CarlsJr['term'].str.contains(patternDel)\n",
    "CarlsJr = CarlsJr[~filter]\n",
    "\n",
    "filter = KFC['term'].str.contains(patternDel)\n",
    "KFC = KFC[~filter]\n",
    "\n",
    "filter = McDonalds['term'].str.contains(patternDel)\n",
    "McDonalds = McDonalds[~filter]\n",
    "\n",
    "filter = Popeyes['term'].str.contains(patternDel)\n",
    "Popeyes = Popeyes[~filter]\n",
    "\n",
    "filter = Wendys['term'].str.contains(patternDel)\n",
    "Wendys = Wendys[~filter]\n",
    "\n",
    "filter = BurgerKing['term'].str.contains(patternDel)\n",
    "BurgerKing = BurgerKing[~filter]\n",
    "\n",
    "filter = Chick_fil_A['term'].str.contains(patternDel)\n",
    "Chick_fil_A = Chick_fil_A[~filter]"
   ]
  },
  {
   "cell_type": "code",
   "execution_count": 118,
   "id": "2d992faa",
   "metadata": {},
   "outputs": [],
   "source": [
    "CarlsJr = CarlsJr[(CarlsJr.term != \"ask\") & (CarlsJr.term != \"literally\") & (CarlsJr.term != \"lady\") & (CarlsJr.term != \"store\") & (CarlsJr.term != \"getting\") & (CarlsJr.term != \"sitting\") & (CarlsJr.term != \"okay\") & (CarlsJr.term != \"mcd\") & (CarlsJr.term != \"open\") & (CarlsJr.term != \"visit\") & (CarlsJr.term != \"hand\") & (CarlsJr.term != \"point\") & (CarlsJr.term != \"coming\") & (CarlsJr.term != \"working\") & (CarlsJr.term != \"minutes\") & (CarlsJr.term != \"second\") & (CarlsJr.term != \"late\") & (CarlsJr.term != \"eating\") & (CarlsJr.term != \"tell\") & (CarlsJr.term != \"counter\") & (CarlsJr.term != \"item\") & (CarlsJr.term != \"wanted\") & (CarlsJr.term != \"today\") & (CarlsJr.term != \"gave\") & (CarlsJr.term != \"little\") & (CarlsJr.term != \"ordering\") & (CarlsJr.term != \"patty\") & (CarlsJr.term != \"tried\") & (CarlsJr.term != \"quality\") & (CarlsJr.term != \"cooked\") & (CarlsJr.term != \"try\")  & (CarlsJr.term != \"away\") & (CarlsJr.term != \"usually\") & (CarlsJr.term != \"double\") & (CarlsJr.term != \"guy\") & (CarlsJr.term != \"wasn\") & (CarlsJr.term != \"need\") & (CarlsJr.term != \"half\") & (CarlsJr.term != \"given\") & (CarlsJr.term != \"min\") & (CarlsJr.term != \"actually\") & (CarlsJr.term != \"stop\") & (CarlsJr.term != \"job\") & (CarlsJr.term != \"looked\") & (CarlsJr.term != \"lot\") & (CarlsJr.term != \"piece\") & (CarlsJr.term != \"girl\") & (CarlsJr.term != \"car\") & (CarlsJr.term != \"isn\") & (CarlsJr.term != \"leave\") & (CarlsJr.term != \"threw\") & (CarlsJr.term != \"bite\") & (CarlsJr.term != \"doesn\") & (CarlsJr.term != \"looking\")]\n",
    "\n",
    "KFC = KFC[(KFC.term != \"ask\") & (KFC.term != \"wish\") & (KFC.term != \"times\") & (KFC.term != \"cuz\") & (KFC.term != \"carls\") & (KFC.term != \"dh\") & (KFC.term != \"used\") & (KFC.term != \"didn\") & (KFC.term != \"practically\") & (KFC.term != \"came\") & (KFC.term != \"doe\") & (KFC.term != \"weren\") & (KFC.term != \"feeling\") & (KFC.term != \"tell\") & (KFC.term != \"woman\") & (KFC.term != \"thought\") & (KFC.term != \"pull\") & (KFC.term != \"want\") & (KFC.term != \"hand\") & (KFC.term != \"let\") & (KFC.term != \"come\") & (KFC.term != \"nom\") & (KFC.term != \"stay\") & (KFC.term != \"look\") & (KFC.term != \"wanted\") & (KFC.term != \"today\") & (KFC.term != \"gave\") & (KFC.term != \"little\") & (KFC.term != \"ordering\") & (KFC.term != \"patty\") & (KFC.term != \"tried\") & (KFC.term != \"quality\") & (KFC.term != \"cooked\") & (KFC.term != \"try\")  & (KFC.term != \"away\") & (KFC.term != \"usually\") & (KFC.term != \"double\") & (KFC.term != \"guy\") & (KFC.term != \"wasn\") & (KFC.term != \"need\") & (KFC.term != \"half\") & (KFC.term != \"given\") & (KFC.term != \"min\") & (KFC.term != \"actually\") & (KFC.term != \"stop\") & (KFC.term != \"job\") & (KFC.term != \"looked\") & (KFC.term != \"lot\") & (KFC.term != \"piece\") & (KFC.term != \"girl\") & (KFC.term != \"car\") & (KFC.term != \"isn\") & (KFC.term != \"leave\") & (KFC.term != \"threw\") & (KFC.term != \"bite\") & (KFC.term != \"doesn\") & (KFC.term != \"looking\")]\n",
    "\n",
    "McDonalds = McDonalds[(McDonalds.term != \"ask\") & (McDonalds.term != \"area\") & (McDonalds.term != \"run\") & (McDonalds.term != \"working\") & (McDonalds.term != \"decided\") & (McDonalds.term != \"sitting\") & (McDonalds.term != \"red\") & (McDonalds.term != \"lady\") & (McDonalds.term != \"think\") & (McDonalds.term != \"bag\") & (McDonalds.term != \"left\") & (McDonalds.term != \"store\") & (McDonalds.term != \"sure\") & (McDonalds.term != \"way\") & (McDonalds.term != \"want\") & (McDonalds.term != \"wanted\") & (McDonalds.term != \"today\") & (McDonalds.term != \"gave\") & (McDonalds.term != \"little\") & (McDonalds.term != \"ordering\") & (McDonalds.term != \"patty\") & (McDonalds.term != \"tried\") & (McDonalds.term != \"quality\") & (McDonalds.term != \"cooked\") & (McDonalds.term != \"try\")  & (McDonalds.term != \"away\") & (McDonalds.term != \"usually\") & (McDonalds.term != \"double\") & (McDonalds.term != \"guy\") & (McDonalds.term != \"wasn\") & (McDonalds.term != \"need\") & (McDonalds.term != \"half\") & (McDonalds.term != \"given\") & (McDonalds.term != \"min\") & (McDonalds.term != \"actually\") & (McDonalds.term != \"stop\") & (McDonalds.term != \"job\") & (McDonalds.term != \"looked\") & (McDonalds.term != \"lot\") & (McDonalds.term != \"piece\") & (McDonalds.term != \"girl\") & (McDonalds.term != \"car\") & (McDonalds.term != \"isn\") & (McDonalds.term != \"leave\") & (McDonalds.term != \"threw\") & (McDonalds.term != \"bite\") & (McDonalds.term != \"doesn\") & (McDonalds.term != \"looking\")  & (McDonalds.term != \"ll\")]\n",
    "\n",
    "Popeyes = Popeyes[(Popeyes.term != \"ask\") & (Popeyes.term != \"maybe\") & (Popeyes.term != \"coming\") & (Popeyes.term != \"point\") & (Popeyes.term != \"getting\") & (Popeyes.term != \"used\") & (Popeyes.term != \"times\") & (Popeyes.term != \"counter\") & (Popeyes.term != \"working\") & (Popeyes.term != \"year\") & (Popeyes.term != \"jr\") & (Popeyes.term != \"thing\") & (Popeyes.term != \"guess\") & (Popeyes.term != \"day\") & (Popeyes.term != \"bag\") & (Popeyes.term != \"wanted\") & (Popeyes.term != \"ll\") & (Popeyes.term != \"today\") & (Popeyes.term != \"gave\") & (Popeyes.term != \"little\") & (Popeyes.term != \"ordering\") & (Popeyes.term != \"patty\") & (Popeyes.term != \"tried\") & (Popeyes.term != \"quality\") & (Popeyes.term != \"cooked\") & (Popeyes.term != \"try\")  & (Popeyes.term != \"away\") & (Popeyes.term != \"usually\") & (Popeyes.term != \"double\") & (Popeyes.term != \"guy\") & (Popeyes.term != \"wasn\") & (Popeyes.term != \"need\") & (Popeyes.term != \"half\") & (Popeyes.term != \"given\") & (Popeyes.term != \"min\") & (Popeyes.term != \"actually\") & (Popeyes.term != \"stop\") & (Popeyes.term != \"job\") & (Popeyes.term != \"looked\") & (Popeyes.term != \"lot\") & (Popeyes.term != \"piece\") & (Popeyes.term != \"girl\") & (Popeyes.term != \"car\") & (Popeyes.term != \"isn\") & (Popeyes.term != \"leave\") & (Popeyes.term != \"threw\") & (Popeyes.term != \"bite\") & (Popeyes.term != \"doesn\") & (Popeyes.term != \"looking\")]\n",
    "\n",
    "Wendys = Wendys[(Wendys.term != \"ask\") & (Wendys.term != \"sundays\") & (Wendys.term != \"bit\") & (Wendys.term != \"chic\") & (Wendys.term != \"asked\") & (Wendys.term != \"home\") & (Wendys.term != \"came\") & (Wendys.term != \"did\") & (Wendys.term != \"sure\") & (Wendys.term != \"want\") & (Wendys.term != \"said\") & (Wendys.term != \"area\") & (Wendys.term != \"wanted\") & (Wendys.term != \"think\") & (Wendys.term != \"cfa\") & (Wendys.term != \"chik\") & (Wendys.term != \"ll\") & (Wendys.term != \"today\") & (Wendys.term != \"gave\") & (Wendys.term != \"little\") & (Wendys.term != \"ordering\") & (Wendys.term != \"patty\") & (Wendys.term != \"tried\") & (Wendys.term != \"quality\") & (Wendys.term != \"cooked\") & (Wendys.term != \"try\")  & (Wendys.term != \"away\") & (Wendys.term != \"usually\") & (Wendys.term != \"double\") & (Wendys.term != \"guy\") & (Wendys.term != \"wasn\") & (Wendys.term != \"need\") & (Wendys.term != \"half\") & (Wendys.term != \"given\") & (Wendys.term != \"min\") & (Wendys.term != \"actually\") & (Wendys.term != \"stop\") & (Wendys.term != \"job\") & (Wendys.term != \"looked\") & (Wendys.term != \"lot\") & (Wendys.term != \"piece\") & (Wendys.term != \"girl\") & (Wendys.term != \"car\") & (Wendys.term != \"isn\") & (Wendys.term != \"leave\") & (Wendys.term != \"threw\") & (Wendys.term != \"bite\") & (Wendys.term != \"doesn\") & (Wendys.term != \"looking\")]\n",
    "\n",
    "BurgerKing = BurgerKing[(BurgerKing.term != \"ask\") & (BurgerKing.term != \"area\") & (BurgerKing.term != \"used\") & (BurgerKing.term != \"night\") & (BurgerKing.term != \"come\") & (BurgerKing.term != \"counter\") & (BurgerKing.term != \"store\") & (BurgerKing.term != \"taking\") & (BurgerKing.term != \"correct\") & (BurgerKing.term != \"couldn\") & (BurgerKing.term != \"close\") & (BurgerKing.term != \"think\") & (BurgerKing.term != \"day\") & (BurgerKing.term != \"sure\") & (BurgerKing.term != \"maybe\") & (BurgerKing.term != \"tonight\") & (BurgerKing.term != \"ll\") & (BurgerKing.term != \"wendys\") & (BurgerKing.term != \"wanted\") & (BurgerKing.term != \"today\") & (BurgerKing.term != \"gave\") & (BurgerKing.term != \"little\") & (BurgerKing.term != \"ordering\") & (BurgerKing.term != \"patty\") & (BurgerKing.term != \"tried\") & (BurgerKing.term != \"quality\") & (BurgerKing.term != \"cooked\") & (BurgerKing.term != \"try\")  & (BurgerKing.term != \"away\") & (BurgerKing.term != \"usually\") & (BurgerKing.term != \"double\") & (BurgerKing.term != \"guy\") & (BurgerKing.term != \"wasn\") & (BurgerKing.term != \"need\") & (BurgerKing.term != \"half\") & (BurgerKing.term != \"given\") & (BurgerKing.term != \"min\") & (BurgerKing.term != \"actually\") & (BurgerKing.term != \"stop\") & (BurgerKing.term != \"job\") & (BurgerKing.term != \"looked\") & (BurgerKing.term != \"lot\") & (BurgerKing.term != \"piece\") & (BurgerKing.term != \"girl\") & (BurgerKing.term != \"car\") & (BurgerKing.term != \"isn\") & (BurgerKing.term != \"leave\") & (BurgerKing.term != \"threw\") & (BurgerKing.term != \"bite\") & (BurgerKing.term != \"doesn\") & (BurgerKing.term != \"looking\")]\n",
    "\n",
    "Chick_fil_A  = Chick_fil_A[(Chick_fil_A.term != \"ask\") & (Chick_fil_A.term != \"area\") & (Chick_fil_A.term != \"hott\") & (Chick_fil_A.term != \"think\") & (Chick_fil_A.term != \"lady\") & (Chick_fil_A.term != \"high\") & (Chick_fil_A.term != \"doe\") & (Chick_fil_A.term != \"thing\") & (Chick_fil_A.term != \"taco\") & (Chick_fil_A.term != \"bell\") & (Chick_fil_A.term != \"work\") & (Chick_fil_A.term != \"took\") & (Chick_fil_A.term != \"having\") & (Chick_fil_A.term != \"rep\") & (Chick_fil_A.term != \"offering\") & (Chick_fil_A.term != \"glove\") & (Chick_fil_A.term != \"sitting\") & (Chick_fil_A.term != \"counter\") & (Chick_fil_A.term != \"decided\") & (Chick_fil_A.term != \"did\") & (Chick_fil_A.term != \"sure\") & (Chick_fil_A.term != \"wouldn\") & (Chick_fil_A.term != \"wanted\") & (Chick_fil_A.term != \"today\") & (Chick_fil_A.term != \"gave\") & (Chick_fil_A.term != \"little\") & (Chick_fil_A.term != \"ordering\") & (Chick_fil_A.term != \"patty\") & (Chick_fil_A.term != \"tried\") & (Chick_fil_A.term != \"quality\") & (Chick_fil_A.term != \"cooked\") & (Chick_fil_A.term != \"try\")  & (Chick_fil_A.term != \"away\") & (Chick_fil_A.term != \"usually\") & (Chick_fil_A.term != \"double\") & (Chick_fil_A.term != \"guy\") & (Chick_fil_A.term != \"wasn\") & (Chick_fil_A.term != \"need\") & (Chick_fil_A.term != \"half\") & (Chick_fil_A.term != \"given\") & (Chick_fil_A.term != \"min\") & (Chick_fil_A.term != \"actually\") & (Chick_fil_A.term != \"stop\") & (Chick_fil_A.term != \"job\") & (Chick_fil_A.term != \"looked\") & (Chick_fil_A.term != \"lot\") & (Chick_fil_A.term != \"piece\") & (Chick_fil_A.term != \"girl\") & (Chick_fil_A.term != \"car\") & (Chick_fil_A.term != \"isn\") & (Chick_fil_A.term != \"leave\") & (Chick_fil_A.term != \"threw\") & (Chick_fil_A.term != \"bite\") & (Chick_fil_A.term != \"doesn\") & (Chick_fil_A.term != \"looking\")]\n",
    "\n"
   ]
  },
  {
   "cell_type": "code",
   "execution_count": 120,
   "id": "d5469d0e",
   "metadata": {},
   "outputs": [],
   "source": [
    "CarlsJr.head(50).to_csv('Cleaned_CarlsJr.csv')\n",
    "KFC.head(50).to_csv('Cleaned_KFC.csv')\n",
    "McDonalds.head(50).to_csv('Cleaned_McDonalds.csv')\n",
    "Popeyes.head(50).to_csv('Cleaned_Popeyes.csv')\n",
    "Wendys.head(50).to_csv('Cleaned_Wendys.csv')\n",
    "BurgerKing.head(50).to_csv('Cleaned_BurgerKing.csv')\n",
    "Chick_fil_A.head(50).to_csv('Cleaned_Chick_fil_A.csv')"
   ]
  },
  {
   "cell_type": "code",
   "execution_count": null,
   "id": "2fbd9946",
   "metadata": {},
   "outputs": [],
   "source": []
  }
 ],
 "metadata": {
  "kernelspec": {
   "display_name": "Python 3 (ipykernel)",
   "language": "python",
   "name": "python3"
  },
  "language_info": {
   "codemirror_mode": {
    "name": "ipython",
    "version": 3
   },
   "file_extension": ".py",
   "mimetype": "text/x-python",
   "name": "python",
   "nbconvert_exporter": "python",
   "pygments_lexer": "ipython3",
   "version": "3.9.7"
  }
 },
 "nbformat": 4,
 "nbformat_minor": 5
}
